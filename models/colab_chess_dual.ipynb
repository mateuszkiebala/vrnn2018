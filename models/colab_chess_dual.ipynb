{
  "nbformat": 4,
  "nbformat_minor": 0,
  "metadata": {
    "colab": {
      "name": "colab-chess.ipynb",
      "version": "0.3.2",
      "provenance": [],
      "collapsed_sections": []
    },
    "kernelspec": {
      "name": "python3",
      "display_name": "Python 3"
    },
    "accelerator": "GPU"
  },
  "cells": [
    {
      "metadata": {
        "id": "WH74UJ_vzPiM",
        "colab_type": "text"
      },
      "cell_type": "markdown",
      "source": [
        "GENERATE GITHUB TOKEN: https://github.com/settings/tokens"
      ]
    },
    {
      "metadata": {
        "id": "XOM3imcnuHNG",
        "colab_type": "code",
        "colab": {}
      },
      "cell_type": "code",
      "source": [
        "! git clone https://TOKEN@github.com/mateuszkiebala/vrnn2018.git"
      ],
      "execution_count": 0,
      "outputs": []
    },
    {
      "metadata": {
        "id": "zl3cpRSvvyuf",
        "colab_type": "code",
        "colab": {}
      },
      "cell_type": "code",
      "source": [
        "% cd vrnn2018"
      ],
      "execution_count": 0,
      "outputs": []
    },
    {
      "metadata": {
        "id": "qsFpqmE5wC9g",
        "colab_type": "code",
        "colab": {}
      },
      "cell_type": "code",
      "source": [
        "! pip3 install -r requirements.txt\n",
        "! pip3 install -e .\n"
      ],
      "execution_count": 0,
      "outputs": []
    },
    {
      "metadata": {
        "id": "qHD6gh0Dxqdz",
        "colab_type": "code",
        "colab": {}
      },
      "cell_type": "code",
      "source": [
        "!python3 gen/generate_games.py --games 20"
      ],
      "execution_count": 0,
      "outputs": []
    },
    {
      "metadata": {
        "id": "8Z7CXJv-zhZ4",
        "colab_type": "code",
        "colab": {}
      },
      "cell_type": "code",
      "source": [
        "! python3 models/dual.py --epochs 50 --batches 10"
      ],
      "execution_count": 0,
      "outputs": []
    }
  ]
}